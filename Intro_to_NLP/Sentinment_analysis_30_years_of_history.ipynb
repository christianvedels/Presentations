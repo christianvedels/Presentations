{
  "cells": [
    {
      "cell_type": "markdown",
      "metadata": {
        "id": "zN1NuY531wEi",
        "slideshow": {
          "slide_type": "slide"
        }
      },
      "source": [
        "# From bean counting to computational extraction of the meaning of things:\n",
        "## *30 years of NLP history in practice*\n"
      ]
    },
    {
      "cell_type": "markdown",
      "metadata": {},
      "source": [
        "### Introduction"
      ]
    },
    {
      "cell_type": "markdown",
      "metadata": {},
      "source": [
        "#### What I do\n"
      ]
    },
    {
      "cell_type": "markdown",
      "metadata": {},
      "source": [
        "- Economic Historian\n",
        "- Assistant Professor at the Department of Economics\n",
        "- Aim to understand the biggest economic developments through the lense of history\n",
        "- AI used to curate historical / archival data"
      ]
    },
    {
      "cell_type": "markdown",
      "metadata": {},
      "source": [
        "#### Modern econ\n"
      ]
    },
    {
      "cell_type": "markdown",
      "metadata": {},
      "source": [
        "- Not rational agents, perfect markets and neoliberalism\n",
        "- Climate change, economic development, art & culture, institutions, scarce resources, market failures\n",
        "\n",
        "Two examples of something I do (they are links to slides):\n",
        "- [A method for coding historical occupations](https://raw.githack.com/christianvedels/OccCANINE/main/Project_dissemination/HISCO%20Slides/Slides.html?panelset=canine&panelset1=example-1#1)\n",
        "- [A new perspective on how the environment shapes the economy](https://raw.githack.com/christianvedels/A_perfect_storm/main/Slides/slides.html#1)"
      ]
    },
    {
      "cell_type": "markdown",
      "metadata": {
        "id": "x8zjD7H39p9j",
        "slideshow": {
          "slide_type": "slide"
        }
      },
      "source": [
        "# 0. Setup\n",
        "\n"
      ]
    },
    {
      "cell_type": "markdown",
      "metadata": {},
      "source": [
        "We will be looking at these sentences:"
      ]
    },
    {
      "cell_type": "code",
      "execution_count": 2,
      "metadata": {
        "id": "sLQRj23t1qkF",
        "slideshow": {
          "slide_type": "fragment"
        }
      },
      "outputs": [],
      "source": [
        "sentences = [\n",
        "    # Easy\n",
        "    \"I love this movie!\",\n",
        "    \"The cake was delicious.\",\n",
        "    \"The weather is wonderful today.\",\n",
        "    \"I hate this sad music which makes me feel miserable.\",\n",
        "\n",
        "    # Medium\n",
        "    \"I’m not sure if I enjoyed the book, but I liked the ending.\",\n",
        "    \"The service was fast, but the food was bland.\",\n",
        "    \"I can't believe I’m still waiting for my order after an hour!\",\n",
        "\n",
        "    # Hard\n",
        "    \"What a spectacular event! Everything was so beautifully organized. Too bad the performance was a disaster.\",\n",
        "    \"I'm happy with the progress, though it's not as fast as I'd hoped and as such it is still a disappointment.\",\n",
        "    \"The customer service was quick, but they didn’t really solve my problem.\",\n",
        "    \"It would have been splendid. Absolutely amazing. But it was quite the opposite.\"\n",
        "]\n"
      ]
    },
    {
      "cell_type": "markdown",
      "metadata": {},
      "source": [
        "### Libraries:"
      ]
    },
    {
      "cell_type": "code",
      "execution_count": 25,
      "metadata": {},
      "outputs": [],
      "source": [
        "### Libraries\n",
        "\n",
        "# Run to install AFINN library\n",
        "# !pip install afinn\n",
        "\n",
        "\n",
        "from afinn import Afinn\n",
        "import pandas as pd\n",
        "import numpy as np"
      ]
    },
    {
      "cell_type": "markdown",
      "metadata": {},
      "source": [
        "#### Prewritten functions (run before anything else)"
      ]
    },
    {
      "cell_type": "markdown",
      "metadata": {},
      "source": [
        "These exist to help us not get caught up in logistics later"
      ]
    },
    {
      "cell_type": "code",
      "execution_count": 30,
      "metadata": {},
      "outputs": [],
      "source": [
        "# Libraries\n",
        "import requests\n",
        "import re\n",
        "import matplotlib.pyplot as plt\n",
        "\n",
        "def get_notes_from_the_underground():\n",
        "    \"\"\"\n",
        "    This function retrieves *Notes from the Underground* from the Gutenberg\n",
        "    website. It also does some text cleaning and separates each sentence into\n",
        "    list elements.\n",
        "    \"\"\"\n",
        "    url = 'https://www.gutenberg.org/cache/epub/600/pg600.txt'\n",
        "    response = requests.get(url)\n",
        "    if response.status_code == 200:\n",
        "        response.encoding = 'utf-8'\n",
        "        text = response.text\n",
        "\n",
        "        # Split text into sentences\n",
        "        sentences = re.split(r'(?<!\\w\\.\\w.)(?<![A-Z][a-z]\\.)(?<=\\.|\\?)\\s|\\r\\n\\r\\n', text)\n",
        "\n",
        "        # Clean text\n",
        "        sentences = sentences[30:]\n",
        "        sentences = sentences[:-117]\n",
        "\n",
        "        return sentences\n",
        "\n",
        "    else:\n",
        "        raise Exception(f\"Failed to retrieve data from {url}. Status code: {response.status_code}\")\n",
        "\n",
        "    return text\n",
        "\n",
        "def get_positive_score(x):\n",
        "    \"\"\"\n",
        "    The pipeline returns 'POSITIVE' or 'NEGATIVE' and a probability, where the\n",
        "    label is based on what is the most likely sentiment of the sentence. It\n",
        "    turns out to be useful to have one continuous score from -1 to 1, which\n",
        "    captures completely 'postive' if 1 and completely 'negative' if -1. This\n",
        "    function handles that.\n",
        "    \"\"\"\n",
        "    if x[\"label\"] == \"POSITIVE\":\n",
        "        res_x = x['score']\n",
        "    elif x[\"label\"] == \"NEGATIVE\":\n",
        "        res_x = 1 - x['score']\n",
        "    else:\n",
        "        raise Exception(x[\"label\"]+\"This should not be possible\")\n",
        "\n",
        "    res_x = res_x*2-1 # Expand to -1 to 1 scale\n",
        "\n",
        "    return res_x\n",
        "\n",
        "\n",
        "def print_pretty(x):\n",
        "    \"\"\"\n",
        "    This function prints text in a pretty way.\n",
        "    \"\"\"\n",
        "    for i in x:\n",
        "        print(f\">>{i}<<\")\n",
        "    "
      ]
    },
    {
      "cell_type": "markdown",
      "metadata": {
        "id": "-UT2nxcc9zd4",
        "slideshow": {
          "slide_type": "subslide"
        }
      },
      "source": [
        "### Definition:\n",
        "> **Sentiment** refers to the emotional tone expressed in a piece of text, indicating whether it is positive, negative, or neutral. It reflects the speaker's or writer's attitude or feelings toward a subject.\n",
        "\n",
        "*Note: Of course this subjective and depends on context. But in many contexts many subjects agree.*\n"
      ]
    },
    {
      "cell_type": "markdown",
      "metadata": {
        "id": "IDQdnbNa_Uhb",
        "slideshow": {
          "slide_type": "slide"
        }
      },
      "source": [
        "## 1. Bean counting\n",
        "![Bag of words](Figures/Bag_of_words.png)\n",
        "\n"
      ]
    },
    {
      "cell_type": "markdown",
      "metadata": {
        "id": "hCJfUGomDUP4",
        "slideshow": {
          "slide_type": "subslide"
        }
      },
      "source": [
        "### The idea\n",
        "*What if we just socres each word, and counted sad and happy words*?\n",
        "\n",
        "- We could even do this manually with `ctrl + F`\n",
        "  "
      ]
    },
    {
      "cell_type": "markdown",
      "metadata": {},
      "source": [
        "### The Afinn library:\n"
      ]
    },
    {
      "cell_type": "markdown",
      "metadata": {},
      "source": [
        "- Someone at DTU, Finn Årup Nielsen, decided to 'score' all words in several languages\n",
        "- See more here: https://github.com/fnielsen/afinn "
      ]
    },
    {
      "cell_type": "code",
      "execution_count": null,
      "metadata": {},
      "outputs": [
        {
          "data": {
            "application/vnd.microsoft.datawrangler.viewer.v0+json": {
              "columns": [
                {
                  "name": "index",
                  "rawType": "int64",
                  "type": "integer"
                },
                {
                  "name": "Word",
                  "rawType": "object",
                  "type": "string"
                },
                {
                  "name": "AFINN_Score",
                  "rawType": "int64",
                  "type": "integer"
                }
              ],
              "conversionMethod": "pd.DataFrame",
              "ref": "11400ee7-079e-4b3b-964c-fbf70a3c6b34",
              "rows": [
                [
                  "0",
                  "abandon",
                  "-2"
                ],
                [
                  "1",
                  "abandoned",
                  "-2"
                ],
                [
                  "2",
                  "abandons",
                  "-2"
                ],
                [
                  "3",
                  "abducted",
                  "-2"
                ],
                [
                  "4",
                  "abduction",
                  "-2"
                ],
                [
                  "5",
                  "abductions",
                  "-2"
                ],
                [
                  "6",
                  "abhor",
                  "-3"
                ],
                [
                  "7",
                  "abhorred",
                  "-3"
                ],
                [
                  "8",
                  "abhorrent",
                  "-3"
                ],
                [
                  "9",
                  "abhors",
                  "-3"
                ],
                [
                  "10",
                  "abilities",
                  "2"
                ],
                [
                  "11",
                  "ability",
                  "2"
                ],
                [
                  "12",
                  "aboard",
                  "1"
                ],
                [
                  "13",
                  "aborted",
                  "-1"
                ],
                [
                  "14",
                  "aborts",
                  "-1"
                ],
                [
                  "15",
                  "absentee",
                  "-1"
                ],
                [
                  "16",
                  "absentees",
                  "-1"
                ],
                [
                  "17",
                  "absolve",
                  "2"
                ],
                [
                  "18",
                  "absolved",
                  "2"
                ],
                [
                  "19",
                  "absolves",
                  "2"
                ],
                [
                  "20",
                  "absolving",
                  "2"
                ],
                [
                  "21",
                  "absorbed",
                  "1"
                ],
                [
                  "22",
                  "abuse",
                  "-3"
                ],
                [
                  "23",
                  "abused",
                  "-3"
                ],
                [
                  "24",
                  "abuses",
                  "-3"
                ],
                [
                  "25",
                  "abusing",
                  "-3"
                ],
                [
                  "26",
                  "abusive",
                  "-3"
                ],
                [
                  "27",
                  "accept",
                  "1"
                ],
                [
                  "28",
                  "acceptable",
                  "1"
                ],
                [
                  "29",
                  "acceptance",
                  "1"
                ],
                [
                  "30",
                  "accepted",
                  "1"
                ],
                [
                  "31",
                  "accepting",
                  "1"
                ],
                [
                  "32",
                  "accepts",
                  "1"
                ],
                [
                  "33",
                  "accessible",
                  "1"
                ],
                [
                  "34",
                  "accident",
                  "-2"
                ],
                [
                  "35",
                  "accidental",
                  "-2"
                ],
                [
                  "36",
                  "accidentally",
                  "-2"
                ],
                [
                  "37",
                  "accidents",
                  "-2"
                ],
                [
                  "38",
                  "acclaim",
                  "2"
                ],
                [
                  "39",
                  "acclaimed",
                  "2"
                ],
                [
                  "40",
                  "accolade",
                  "2"
                ],
                [
                  "41",
                  "accomplish",
                  "2"
                ],
                [
                  "42",
                  "accomplished",
                  "2"
                ],
                [
                  "43",
                  "accomplishes",
                  "2"
                ],
                [
                  "44",
                  "accomplishment",
                  "2"
                ],
                [
                  "45",
                  "accomplishments",
                  "2"
                ],
                [
                  "46",
                  "accusation",
                  "-2"
                ],
                [
                  "47",
                  "accusations",
                  "-2"
                ],
                [
                  "48",
                  "accuse",
                  "-2"
                ],
                [
                  "49",
                  "accused",
                  "-2"
                ]
              ],
              "shape": {
                "columns": 2,
                "rows": 3382
              }
            },
            "text/html": [
              "<div>\n",
              "<style scoped>\n",
              "    .dataframe tbody tr th:only-of-type {\n",
              "        vertical-align: middle;\n",
              "    }\n",
              "\n",
              "    .dataframe tbody tr th {\n",
              "        vertical-align: top;\n",
              "    }\n",
              "\n",
              "    .dataframe thead th {\n",
              "        text-align: right;\n",
              "    }\n",
              "</style>\n",
              "<table border=\"1\" class=\"dataframe\">\n",
              "  <thead>\n",
              "    <tr style=\"text-align: right;\">\n",
              "      <th></th>\n",
              "      <th>Word</th>\n",
              "      <th>AFINN_Score</th>\n",
              "    </tr>\n",
              "  </thead>\n",
              "  <tbody>\n",
              "    <tr>\n",
              "      <th>0</th>\n",
              "      <td>abandon</td>\n",
              "      <td>-2</td>\n",
              "    </tr>\n",
              "    <tr>\n",
              "      <th>1</th>\n",
              "      <td>abandoned</td>\n",
              "      <td>-2</td>\n",
              "    </tr>\n",
              "    <tr>\n",
              "      <th>2</th>\n",
              "      <td>abandons</td>\n",
              "      <td>-2</td>\n",
              "    </tr>\n",
              "    <tr>\n",
              "      <th>3</th>\n",
              "      <td>abducted</td>\n",
              "      <td>-2</td>\n",
              "    </tr>\n",
              "    <tr>\n",
              "      <th>4</th>\n",
              "      <td>abduction</td>\n",
              "      <td>-2</td>\n",
              "    </tr>\n",
              "    <tr>\n",
              "      <th>...</th>\n",
              "      <td>...</td>\n",
              "      <td>...</td>\n",
              "    </tr>\n",
              "    <tr>\n",
              "      <th>3377</th>\n",
              "      <td>yucky</td>\n",
              "      <td>-2</td>\n",
              "    </tr>\n",
              "    <tr>\n",
              "      <th>3378</th>\n",
              "      <td>yummy</td>\n",
              "      <td>3</td>\n",
              "    </tr>\n",
              "    <tr>\n",
              "      <th>3379</th>\n",
              "      <td>zealot</td>\n",
              "      <td>-2</td>\n",
              "    </tr>\n",
              "    <tr>\n",
              "      <th>3380</th>\n",
              "      <td>zealots</td>\n",
              "      <td>-2</td>\n",
              "    </tr>\n",
              "    <tr>\n",
              "      <th>3381</th>\n",
              "      <td>zealous</td>\n",
              "      <td>2</td>\n",
              "    </tr>\n",
              "  </tbody>\n",
              "</table>\n",
              "<p>3382 rows × 2 columns</p>\n",
              "</div>"
            ],
            "text/plain": [
              "           Word  AFINN_Score\n",
              "0       abandon           -2\n",
              "1     abandoned           -2\n",
              "2      abandons           -2\n",
              "3      abducted           -2\n",
              "4     abduction           -2\n",
              "...         ...          ...\n",
              "3377      yucky           -2\n",
              "3378      yummy            3\n",
              "3379     zealot           -2\n",
              "3380    zealots           -2\n",
              "3381    zealous            2\n",
              "\n",
              "[3382 rows x 2 columns]"
            ]
          },
          "execution_count": 12,
          "metadata": {},
          "output_type": "execute_result"
        }
      ],
      "source": [
        "afinn = Afinn()\n",
        "pd.DataFrame(list(afinn._dict.items()), columns=['Word', 'AFINN_Score']) # Print nice table of AFINN dictionary"
      ]
    },
    {
      "cell_type": "markdown",
      "metadata": {},
      "source": [
        "#### Doing this automatically"
      ]
    },
    {
      "cell_type": "markdown",
      "metadata": {},
      "source": [
        "##### One sentence example"
      ]
    },
    {
      "cell_type": "code",
      "execution_count": 13,
      "metadata": {},
      "outputs": [
        {
          "data": {
            "application/vnd.microsoft.datawrangler.viewer.v0+json": {
              "columns": [
                {
                  "name": "index",
                  "rawType": "int64",
                  "type": "integer"
                },
                {
                  "name": "Word",
                  "rawType": "object",
                  "type": "string"
                },
                {
                  "name": "AFINN_Score",
                  "rawType": "float64",
                  "type": "float"
                }
              ],
              "conversionMethod": "pd.DataFrame",
              "ref": "2d5627a9-2efa-4dba-8459-f3fd262e3ae0",
              "rows": [
                [
                  "0",
                  "I",
                  "0.0"
                ],
                [
                  "1",
                  "hate",
                  "-3.0"
                ],
                [
                  "2",
                  "this",
                  "0.0"
                ],
                [
                  "3",
                  "sad",
                  "-2.0"
                ],
                [
                  "4",
                  "music",
                  "0.0"
                ],
                [
                  "5",
                  "which",
                  "0.0"
                ],
                [
                  "6",
                  "makes",
                  "0.0"
                ],
                [
                  "7",
                  "me",
                  "0.0"
                ],
                [
                  "8",
                  "feel",
                  "0.0"
                ],
                [
                  "9",
                  "miserable.",
                  "-3.0"
                ]
              ],
              "shape": {
                "columns": 2,
                "rows": 10
              }
            },
            "text/html": [
              "<div>\n",
              "<style scoped>\n",
              "    .dataframe tbody tr th:only-of-type {\n",
              "        vertical-align: middle;\n",
              "    }\n",
              "\n",
              "    .dataframe tbody tr th {\n",
              "        vertical-align: top;\n",
              "    }\n",
              "\n",
              "    .dataframe thead th {\n",
              "        text-align: right;\n",
              "    }\n",
              "</style>\n",
              "<table border=\"1\" class=\"dataframe\">\n",
              "  <thead>\n",
              "    <tr style=\"text-align: right;\">\n",
              "      <th></th>\n",
              "      <th>Word</th>\n",
              "      <th>AFINN_Score</th>\n",
              "    </tr>\n",
              "  </thead>\n",
              "  <tbody>\n",
              "    <tr>\n",
              "      <th>0</th>\n",
              "      <td>I</td>\n",
              "      <td>0.0</td>\n",
              "    </tr>\n",
              "    <tr>\n",
              "      <th>1</th>\n",
              "      <td>hate</td>\n",
              "      <td>-3.0</td>\n",
              "    </tr>\n",
              "    <tr>\n",
              "      <th>2</th>\n",
              "      <td>this</td>\n",
              "      <td>0.0</td>\n",
              "    </tr>\n",
              "    <tr>\n",
              "      <th>3</th>\n",
              "      <td>sad</td>\n",
              "      <td>-2.0</td>\n",
              "    </tr>\n",
              "    <tr>\n",
              "      <th>4</th>\n",
              "      <td>music</td>\n",
              "      <td>0.0</td>\n",
              "    </tr>\n",
              "    <tr>\n",
              "      <th>5</th>\n",
              "      <td>which</td>\n",
              "      <td>0.0</td>\n",
              "    </tr>\n",
              "    <tr>\n",
              "      <th>6</th>\n",
              "      <td>makes</td>\n",
              "      <td>0.0</td>\n",
              "    </tr>\n",
              "    <tr>\n",
              "      <th>7</th>\n",
              "      <td>me</td>\n",
              "      <td>0.0</td>\n",
              "    </tr>\n",
              "    <tr>\n",
              "      <th>8</th>\n",
              "      <td>feel</td>\n",
              "      <td>0.0</td>\n",
              "    </tr>\n",
              "    <tr>\n",
              "      <th>9</th>\n",
              "      <td>miserable.</td>\n",
              "      <td>-3.0</td>\n",
              "    </tr>\n",
              "  </tbody>\n",
              "</table>\n",
              "</div>"
            ],
            "text/plain": [
              "         Word  AFINN_Score\n",
              "0           I          0.0\n",
              "1        hate         -3.0\n",
              "2        this          0.0\n",
              "3         sad         -2.0\n",
              "4       music          0.0\n",
              "5       which          0.0\n",
              "6       makes          0.0\n",
              "7          me          0.0\n",
              "8        feel          0.0\n",
              "9  miserable.         -3.0"
            ]
          },
          "execution_count": 13,
          "metadata": {},
          "output_type": "execute_result"
        }
      ],
      "source": [
        "from afinn import Afinn\n",
        "import pandas as pd\n",
        "\n",
        "# Sentence to analyze\n",
        "sentence_to_analyze = \"I hate this sad music which makes me feel miserable.\"\n",
        "\n",
        "# Tokenize the sentence into words and calculate AFINN scores for each word\n",
        "word_scores = [(word, afinn.score(word)) for word in sentence_to_analyze.split()]\n",
        "\n",
        "# Create a DataFrame for the words and their scores\n",
        "word_scores_df = pd.DataFrame(word_scores, columns=['Word', 'AFINN_Score'])\n",
        "\n",
        "# Calculate the overall AFINN score for the sentence\n",
        "overall_score_df = pd.DataFrame({\n",
        "    'Sentence': [sentence_to_analyze],\n",
        "    'AFINN_Score': [afinn.score(sentence_to_analyze)]\n",
        "})\n",
        "\n",
        "# Display the DataFrames\n",
        "word_scores_df\n"
      ]
    },
    {
      "cell_type": "markdown",
      "metadata": {
        "slideshow": {
          "slide_type": "subslide"
        }
      },
      "source": [
        "##### Doing this to all of our sentences:"
      ]
    },
    {
      "cell_type": "code",
      "execution_count": 3,
      "metadata": {
        "colab": {
          "base_uri": "https://localhost:8080/"
        },
        "id": "OeSwn8Iu_gev",
        "outputId": "358a32ce-4cd1-4360-fdb8-573c6f289b22"
      },
      "outputs": [
        {
          "data": {
            "application/vnd.microsoft.datawrangler.viewer.v0+json": {
              "columns": [
                {
                  "name": "index",
                  "rawType": "int64",
                  "type": "integer"
                },
                {
                  "name": "Sentence",
                  "rawType": "object",
                  "type": "string"
                },
                {
                  "name": "AFINN_Score",
                  "rawType": "float64",
                  "type": "float"
                }
              ],
              "conversionMethod": "pd.DataFrame",
              "ref": "d03106d6-474a-4398-b4b5-00315e3d95d4",
              "rows": [
                [
                  "0",
                  "I love this movie!",
                  "3.0"
                ],
                [
                  "1",
                  "The cake was delicious.",
                  "3.0"
                ],
                [
                  "2",
                  "The weather is wonderful today.",
                  "4.0"
                ],
                [
                  "3",
                  "I hate this sad music which makes me feel miserable.",
                  "-8.0"
                ],
                [
                  "4",
                  "I’m not sure if I enjoyed the book, but I liked the ending.",
                  "4.0"
                ],
                [
                  "5",
                  "The service was fast, but the food was bland.",
                  "0.0"
                ],
                [
                  "6",
                  "I can't believe I’m still waiting for my order after an hour!",
                  "0.0"
                ],
                [
                  "7",
                  "What a spectacular event! Everything was so beautifully organized. Too bad the performance was a disaster.",
                  "-2.0"
                ],
                [
                  "8",
                  "I'm happy with the progress, though it's not as fast as I'd hoped and as such it is still a disappointment.",
                  "3.0"
                ],
                [
                  "9",
                  "The customer service was quick, but they didn’t really solve my problem.",
                  "-1.0"
                ],
                [
                  "10",
                  "It would have been splendid. Absolutely amazing. But it was quite the opposite.",
                  "7.0"
                ]
              ],
              "shape": {
                "columns": 2,
                "rows": 11
              }
            },
            "text/html": [
              "<div>\n",
              "<style scoped>\n",
              "    .dataframe tbody tr th:only-of-type {\n",
              "        vertical-align: middle;\n",
              "    }\n",
              "\n",
              "    .dataframe tbody tr th {\n",
              "        vertical-align: top;\n",
              "    }\n",
              "\n",
              "    .dataframe thead th {\n",
              "        text-align: right;\n",
              "    }\n",
              "</style>\n",
              "<table border=\"1\" class=\"dataframe\">\n",
              "  <thead>\n",
              "    <tr style=\"text-align: right;\">\n",
              "      <th></th>\n",
              "      <th>Sentence</th>\n",
              "      <th>AFINN_Score</th>\n",
              "    </tr>\n",
              "  </thead>\n",
              "  <tbody>\n",
              "    <tr>\n",
              "      <th>0</th>\n",
              "      <td>I love this movie!</td>\n",
              "      <td>3.0</td>\n",
              "    </tr>\n",
              "    <tr>\n",
              "      <th>1</th>\n",
              "      <td>The cake was delicious.</td>\n",
              "      <td>3.0</td>\n",
              "    </tr>\n",
              "    <tr>\n",
              "      <th>2</th>\n",
              "      <td>The weather is wonderful today.</td>\n",
              "      <td>4.0</td>\n",
              "    </tr>\n",
              "    <tr>\n",
              "      <th>3</th>\n",
              "      <td>I hate this sad music which makes me feel mise...</td>\n",
              "      <td>-8.0</td>\n",
              "    </tr>\n",
              "    <tr>\n",
              "      <th>4</th>\n",
              "      <td>I’m not sure if I enjoyed the book, but I like...</td>\n",
              "      <td>4.0</td>\n",
              "    </tr>\n",
              "    <tr>\n",
              "      <th>5</th>\n",
              "      <td>The service was fast, but the food was bland.</td>\n",
              "      <td>0.0</td>\n",
              "    </tr>\n",
              "    <tr>\n",
              "      <th>6</th>\n",
              "      <td>I can't believe I’m still waiting for my order...</td>\n",
              "      <td>0.0</td>\n",
              "    </tr>\n",
              "    <tr>\n",
              "      <th>7</th>\n",
              "      <td>What a spectacular event! Everything was so be...</td>\n",
              "      <td>-2.0</td>\n",
              "    </tr>\n",
              "    <tr>\n",
              "      <th>8</th>\n",
              "      <td>I'm happy with the progress, though it's not a...</td>\n",
              "      <td>3.0</td>\n",
              "    </tr>\n",
              "    <tr>\n",
              "      <th>9</th>\n",
              "      <td>The customer service was quick, but they didn’...</td>\n",
              "      <td>-1.0</td>\n",
              "    </tr>\n",
              "    <tr>\n",
              "      <th>10</th>\n",
              "      <td>It would have been splendid. Absolutely amazin...</td>\n",
              "      <td>7.0</td>\n",
              "    </tr>\n",
              "  </tbody>\n",
              "</table>\n",
              "</div>"
            ],
            "text/plain": [
              "                                             Sentence  AFINN_Score\n",
              "0                                  I love this movie!          3.0\n",
              "1                             The cake was delicious.          3.0\n",
              "2                     The weather is wonderful today.          4.0\n",
              "3   I hate this sad music which makes me feel mise...         -8.0\n",
              "4   I’m not sure if I enjoyed the book, but I like...          4.0\n",
              "5       The service was fast, but the food was bland.          0.0\n",
              "6   I can't believe I’m still waiting for my order...          0.0\n",
              "7   What a spectacular event! Everything was so be...         -2.0\n",
              "8   I'm happy with the progress, though it's not a...          3.0\n",
              "9   The customer service was quick, but they didn’...         -1.0\n",
              "10  It would have been splendid. Absolutely amazin...          7.0"
            ]
          },
          "execution_count": 3,
          "metadata": {},
          "output_type": "execute_result"
        }
      ],
      "source": [
        "from afinn import Afinn\n",
        "import pandas as pd\n",
        "\n",
        "afinn = Afinn()\n",
        "\n",
        "# Create a DataFrame to store sentences and their AFINN scores\n",
        "results_df = pd.DataFrame({\n",
        "    'Sentence': sentences,\n",
        "    'AFINN_Score': [afinn.score(sentence) for sentence in sentences]\n",
        "})\n",
        "\n",
        "results_df"
      ]
    },
    {
      "cell_type": "code",
      "execution_count": null,
      "metadata": {},
      "outputs": [],
      "source": []
    },
    {
      "cell_type": "markdown",
      "metadata": {
        "id": "ThENHY6uDni-"
      },
      "source": [
        "# 2. Language is more than a bag of words\n"
      ]
    },
    {
      "cell_type": "markdown",
      "metadata": {},
      "source": [
        "## 2.1. Problems with the 'bag of words' idea\n"
      ]
    },
    {
      "cell_type": "markdown",
      "metadata": {},
      "source": [
        "- Language has grammar\n",
        "- Context matters\n",
        "\n",
        "*Still: It is broadly apreciable*"
      ]
    },
    {
      "cell_type": "markdown",
      "metadata": {},
      "source": [
        "## 2.2. We can do better"
      ]
    },
    {
      "cell_type": "markdown",
      "metadata": {},
      "source": [
        "1. Take grammar into account using lingstics (~2014): [Valence Aware Dictionary and sEntiment Reasoner](https://github.com/cjhutto/vaderSentiment?tab=readme-ov-file#citation-information)\n",
        "2. Make use of emergent grammatical understanding in transformer models (~2021 and forward): E.g. `transformers` library and `pipeline(\"sentiment-analysis\")` (See more here: https://huggingface.co/docs/transformers/v4.36.1/en/index)\n",
        "\n",
        "*We will do the most modern stuff here*"
      ]
    },
    {
      "cell_type": "code",
      "execution_count": null,
      "metadata": {},
      "outputs": [],
      "source": []
    },
    {
      "cell_type": "markdown",
      "metadata": {},
      "source": [
        "## 2.3. Lets do better"
      ]
    },
    {
      "cell_type": "markdown",
      "metadata": {},
      "source": [
        "### 2.3.1. Example 1\n",
        "\n",
        "- We will a particularly hard snippet of text: \n",
        "    + `\"That would have been splendid. Absoloutly amazing. But it was quite the opposite.\"`"
      ]
    },
    {
      "cell_type": "code",
      "execution_count": 14,
      "metadata": {},
      "outputs": [
        {
          "name": "stderr",
          "output_type": "stream",
          "text": [
            "c:\\ProgramData\\anaconda3\\envs\\cvs\\Lib\\site-packages\\tqdm\\auto.py:21: TqdmWarning: IProgress not found. Please update jupyter and ipywidgets. See https://ipywidgets.readthedocs.io/en/stable/user_install.html\n",
            "  from .autonotebook import tqdm as notebook_tqdm\n",
            "Device set to use cuda:0\n"
          ]
        },
        {
          "name": "stdout",
          "output_type": "stream",
          "text": [
            "[{'label': 'NEGATIVE', 'score': 0.9866785407066345}]\n"
          ]
        }
      ],
      "source": [
        "from transformers import pipeline\n",
        "classifier = pipeline(\"sentiment-analysis\", model = \"distilbert/distilbert-base-uncased-finetuned-sst-2-english\")\n",
        "result = classifier(\"That would have been splendid. Absoloutly amazing. But it was quite the opposite.\")\n",
        "print(result)"
      ]
    },
    {
      "cell_type": "markdown",
      "metadata": {},
      "source": [
        "### 2.3.2. Example 2\n",
        "- We will analyze all the sentences from before"
      ]
    },
    {
      "cell_type": "code",
      "execution_count": 20,
      "metadata": {},
      "outputs": [
        {
          "data": {
            "application/vnd.microsoft.datawrangler.viewer.v0+json": {
              "columns": [
                {
                  "name": "index",
                  "rawType": "int64",
                  "type": "integer"
                },
                {
                  "name": "Sentence",
                  "rawType": "object",
                  "type": "string"
                },
                {
                  "name": "Sentiment_Label",
                  "rawType": "object",
                  "type": "string"
                },
                {
                  "name": "Sentiment_Score",
                  "rawType": "float64",
                  "type": "float"
                }
              ],
              "conversionMethod": "pd.DataFrame",
              "ref": "e2727fca-b6e4-4e24-a479-ea1c7fb7fe90",
              "rows": [
                [
                  "0",
                  "I love this movie!",
                  "POSITIVE",
                  "0.9998775720596313"
                ],
                [
                  "1",
                  "The cake was delicious.",
                  "POSITIVE",
                  "0.9998769760131836"
                ],
                [
                  "2",
                  "The weather is wonderful today.",
                  "POSITIVE",
                  "0.9998881816864014"
                ],
                [
                  "3",
                  "I hate this sad music which makes me feel miserable.",
                  "NEGATIVE",
                  "0.9997499585151672"
                ],
                [
                  "4",
                  "I’m not sure if I enjoyed the book, but I liked the ending.",
                  "POSITIVE",
                  "0.9995226860046387"
                ],
                [
                  "5",
                  "The service was fast, but the food was bland.",
                  "NEGATIVE",
                  "0.999290943145752"
                ],
                [
                  "6",
                  "I can't believe I’m still waiting for my order after an hour!",
                  "NEGATIVE",
                  "0.9919180274009705"
                ],
                [
                  "7",
                  "What a spectacular event! Everything was so beautifully organized. Too bad the performance was a disaster.",
                  "NEGATIVE",
                  "0.7196274399757385"
                ],
                [
                  "8",
                  "I'm happy with the progress, though it's not as fast as I'd hoped and as such it is still a disappointment.",
                  "NEGATIVE",
                  "0.9959086179733276"
                ],
                [
                  "9",
                  "The customer service was quick, but they didn’t really solve my problem.",
                  "NEGATIVE",
                  "0.999708354473114"
                ],
                [
                  "10",
                  "It would have been splendid. Absolutely amazing. But it was quite the opposite.",
                  "NEGATIVE",
                  "0.9851900935173035"
                ]
              ],
              "shape": {
                "columns": 3,
                "rows": 11
              }
            },
            "text/html": [
              "<div>\n",
              "<style scoped>\n",
              "    .dataframe tbody tr th:only-of-type {\n",
              "        vertical-align: middle;\n",
              "    }\n",
              "\n",
              "    .dataframe tbody tr th {\n",
              "        vertical-align: top;\n",
              "    }\n",
              "\n",
              "    .dataframe thead th {\n",
              "        text-align: right;\n",
              "    }\n",
              "</style>\n",
              "<table border=\"1\" class=\"dataframe\">\n",
              "  <thead>\n",
              "    <tr style=\"text-align: right;\">\n",
              "      <th></th>\n",
              "      <th>Sentence</th>\n",
              "      <th>Sentiment_Label</th>\n",
              "      <th>Sentiment_Score</th>\n",
              "    </tr>\n",
              "  </thead>\n",
              "  <tbody>\n",
              "    <tr>\n",
              "      <th>0</th>\n",
              "      <td>I love this movie!</td>\n",
              "      <td>POSITIVE</td>\n",
              "      <td>0.999878</td>\n",
              "    </tr>\n",
              "    <tr>\n",
              "      <th>1</th>\n",
              "      <td>The cake was delicious.</td>\n",
              "      <td>POSITIVE</td>\n",
              "      <td>0.999877</td>\n",
              "    </tr>\n",
              "    <tr>\n",
              "      <th>2</th>\n",
              "      <td>The weather is wonderful today.</td>\n",
              "      <td>POSITIVE</td>\n",
              "      <td>0.999888</td>\n",
              "    </tr>\n",
              "    <tr>\n",
              "      <th>3</th>\n",
              "      <td>I hate this sad music which makes me feel mise...</td>\n",
              "      <td>NEGATIVE</td>\n",
              "      <td>0.999750</td>\n",
              "    </tr>\n",
              "    <tr>\n",
              "      <th>4</th>\n",
              "      <td>I’m not sure if I enjoyed the book, but I like...</td>\n",
              "      <td>POSITIVE</td>\n",
              "      <td>0.999523</td>\n",
              "    </tr>\n",
              "    <tr>\n",
              "      <th>5</th>\n",
              "      <td>The service was fast, but the food was bland.</td>\n",
              "      <td>NEGATIVE</td>\n",
              "      <td>0.999291</td>\n",
              "    </tr>\n",
              "    <tr>\n",
              "      <th>6</th>\n",
              "      <td>I can't believe I’m still waiting for my order...</td>\n",
              "      <td>NEGATIVE</td>\n",
              "      <td>0.991918</td>\n",
              "    </tr>\n",
              "    <tr>\n",
              "      <th>7</th>\n",
              "      <td>What a spectacular event! Everything was so be...</td>\n",
              "      <td>NEGATIVE</td>\n",
              "      <td>0.719627</td>\n",
              "    </tr>\n",
              "    <tr>\n",
              "      <th>8</th>\n",
              "      <td>I'm happy with the progress, though it's not a...</td>\n",
              "      <td>NEGATIVE</td>\n",
              "      <td>0.995909</td>\n",
              "    </tr>\n",
              "    <tr>\n",
              "      <th>9</th>\n",
              "      <td>The customer service was quick, but they didn’...</td>\n",
              "      <td>NEGATIVE</td>\n",
              "      <td>0.999708</td>\n",
              "    </tr>\n",
              "    <tr>\n",
              "      <th>10</th>\n",
              "      <td>It would have been splendid. Absolutely amazin...</td>\n",
              "      <td>NEGATIVE</td>\n",
              "      <td>0.985190</td>\n",
              "    </tr>\n",
              "  </tbody>\n",
              "</table>\n",
              "</div>"
            ],
            "text/plain": [
              "                                             Sentence Sentiment_Label  \\\n",
              "0                                  I love this movie!        POSITIVE   \n",
              "1                             The cake was delicious.        POSITIVE   \n",
              "2                     The weather is wonderful today.        POSITIVE   \n",
              "3   I hate this sad music which makes me feel mise...        NEGATIVE   \n",
              "4   I’m not sure if I enjoyed the book, but I like...        POSITIVE   \n",
              "5       The service was fast, but the food was bland.        NEGATIVE   \n",
              "6   I can't believe I’m still waiting for my order...        NEGATIVE   \n",
              "7   What a spectacular event! Everything was so be...        NEGATIVE   \n",
              "8   I'm happy with the progress, though it's not a...        NEGATIVE   \n",
              "9   The customer service was quick, but they didn’...        NEGATIVE   \n",
              "10  It would have been splendid. Absolutely amazin...        NEGATIVE   \n",
              "\n",
              "    Sentiment_Score  \n",
              "0          0.999878  \n",
              "1          0.999877  \n",
              "2          0.999888  \n",
              "3          0.999750  \n",
              "4          0.999523  \n",
              "5          0.999291  \n",
              "6          0.991918  \n",
              "7          0.719627  \n",
              "8          0.995909  \n",
              "9          0.999708  \n",
              "10         0.985190  "
            ]
          },
          "execution_count": 20,
          "metadata": {},
          "output_type": "execute_result"
        }
      ],
      "source": [
        "# Perform sentiment analysis on all sentences\n",
        "sentiment_results = classifier(sentences)\n",
        "\n",
        "# Create a DataFrame to store the results\n",
        "sentiment_df = pd.DataFrame({\n",
        "    'Sentence': sentences,\n",
        "    'Sentiment_Label': [result['label'] for result in sentiment_results],\n",
        "    'Sentiment_Score': [result['score'] for result in sentiment_results]\n",
        "})\n",
        "\n",
        "# Display the DataFrame\n",
        "sentiment_df"
      ]
    },
    {
      "cell_type": "markdown",
      "metadata": {},
      "source": [
        "### 2.3.2. Example 3\n",
        "- We will *automatically* 'read' all of *Notes from the Underground* by Fyodor Dostoyevsky\n",
        "- Knowledge of context is required"
      ]
    },
    {
      "cell_type": "code",
      "execution_count": 31,
      "metadata": {},
      "outputs": [
        {
          "name": "stdout",
          "output_type": "stream",
          "text": [
            ">>\n",
            "I am a sick man....<<\n",
            ">>I am a spiteful man.<<\n",
            ">>I am an unattractive man.<<\n",
            ">>I\n",
            "believe my liver is diseased.<<\n",
            ">>However, I know nothing at all about my\n",
            "disease, and do not know for certain what ails me.<<\n",
            ">>I don’t consult a\n",
            "doctor for it, and never have, though I have a respect for medicine and\n",
            "doctors.<<\n",
            ">>Besides, I am extremely superstitious, sufficiently so to\n",
            "respect medicine, anyway (I am well-educated enough not to be\n",
            "superstitious, but I am superstitious).<<\n",
            ">>No, I refuse to consult a\n",
            "doctor from spite.<<\n",
            ">>That you probably will not understand.<<\n",
            ">>Well, I\n",
            "understand it, though.<<\n",
            ">>Of course, I can’t explain who it is precisely\n",
            "that I am mortifying in this case by my spite: I am perfectly well\n",
            "aware that I cannot “pay out” the doctors by not consulting them; I\n",
            "know better than anyone that by all this I am only injuring myself and\n",
            "no one else.<<\n",
            ">>But still, if I don’t consult a doctor it is from spite.<<\n",
            ">>\n",
            "My liver is bad, well—let it get worse!<<\n",
            ">>I have been going on like that for a long time—twenty years.<<\n",
            ">>Now I am\n",
            "forty.<<\n",
            ">>I used to be in the government service, but am no longer.<<\n",
            ">>I was\n",
            "a spiteful official.<<\n",
            ">>I was rude and took pleasure in being so.<<\n",
            ">>I did\n",
            "not take bribes, you see, so I was bound to find a recompense in that,\n",
            "at least.<<\n",
            ">>(A poor jest, but I will not scratch it out.<<\n"
          ]
        }
      ],
      "source": [
        "notes_from_the_underground = get_notes_from_the_underground()\n",
        "print_pretty(notes_from_the_underground[:20])  # Print the first 20 sentences"
      ]
    },
    {
      "cell_type": "code",
      "execution_count": 36,
      "metadata": {},
      "outputs": [
        {
          "data": {
            "application/vnd.microsoft.datawrangler.viewer.v0+json": {
              "columns": [
                {
                  "name": "index",
                  "rawType": "int64",
                  "type": "integer"
                },
                {
                  "name": "sentiment",
                  "rawType": "float64",
                  "type": "float"
                },
                {
                  "name": "sentence",
                  "rawType": "object",
                  "type": "string"
                }
              ],
              "conversionMethod": "pd.DataFrame",
              "ref": "ba3199a0-afb8-483f-9d51-7008a31cce02",
              "rows": [
                [
                  "0",
                  "-0.9983115196228027",
                  "\r\nI am a sick man...."
                ],
                [
                  "1",
                  "-0.9802310466766357",
                  "I am a spiteful man."
                ],
                [
                  "2",
                  "-0.9911007881164551",
                  "I am an unattractive man."
                ],
                [
                  "3",
                  "-0.9971104860305786",
                  "I\r\nbelieve my liver is diseased."
                ],
                [
                  "4",
                  "-0.9986453056335449",
                  "However, I know nothing at all about my\r\ndisease, and do not know for certain what ails me."
                ],
                [
                  "5",
                  "-0.6865848302841187",
                  "I don’t consult a\r\ndoctor for it, and never have, though I have a respect for medicine and\r\ndoctors."
                ],
                [
                  "6",
                  "0.25386977195739746",
                  "Besides, I am extremely superstitious, sufficiently so to\r\nrespect medicine, anyway (I am well-educated enough not to be\r\nsuperstitious, but I am superstitious)."
                ],
                [
                  "7",
                  "-0.9978643655776978",
                  "No, I refuse to consult a\r\ndoctor from spite."
                ],
                [
                  "8",
                  "-0.9988852739334106",
                  "That you probably will not understand."
                ],
                [
                  "9",
                  "0.9983258247375488",
                  "Well, I\r\nunderstand it, though."
                ],
                [
                  "10",
                  "-0.958626389503479",
                  "Of course, I can’t explain who it is precisely\r\nthat I am mortifying in this case by my spite: I am perfectly well\r\naware that I cannot “pay out” the doctors by not consulting them; I\r\nknow better than anyone that by all this I am only injuring myself and\r\nno one else."
                ],
                [
                  "11",
                  "-0.9949300289154053",
                  "But still, if I don’t consult a doctor it is from spite."
                ],
                [
                  "12",
                  "-0.9994369745254517",
                  "\nMy liver is bad, well—let it get worse!"
                ],
                [
                  "13",
                  "0.783005952835083",
                  "I have been going on like that for a long time—twenty years."
                ],
                [
                  "14",
                  "0.9578661918640137",
                  "Now I am\r\nforty."
                ],
                [
                  "15",
                  "-0.9822065830230713",
                  "I used to be in the government service, but am no longer."
                ],
                [
                  "16",
                  "-0.9797694683074951",
                  "I was\r\na spiteful official."
                ],
                [
                  "17",
                  "0.9884268045425415",
                  "I was rude and took pleasure in being so."
                ],
                [
                  "18",
                  "0.9174114465713501",
                  "I did\r\nnot take bribes, you see, so I was bound to find a recompense in that,\r\nat least."
                ],
                [
                  "19",
                  "-0.9219250679016113",
                  "(A poor jest, but I will not scratch it out."
                ],
                [
                  "20",
                  "-0.9874259233474731",
                  "I wrote it\r\nthinking it would sound very witty; but now that I have seen myself\r\nthat I only wanted to show off in a despicable way, I will not scratch\r\nit out on purpose!)"
                ],
                [
                  "21",
                  "0.9937574863433838",
                  "When petitioners used to come for information to the table at which I\r\nsat, I used to grind my teeth at them, and felt intense enjoyment when\r\nI succeeded in making anybody unhappy."
                ],
                [
                  "22",
                  "-0.9722731113433838",
                  "I almost did succeed."
                ],
                [
                  "23",
                  "-0.9847685098648071",
                  "For the\r\nmost part they were all timid people—of course, they were petitioners."
                ],
                [
                  "24",
                  "0.40369248390197754",
                  "\nBut of the uppish ones there was one officer in particular I could not\r\nendure."
                ],
                [
                  "25",
                  "-0.9988422393798828",
                  "He simply would not be humble, and clanked his sword in a\r\ndisgusting way."
                ],
                [
                  "26",
                  "-0.929817795753479",
                  "I carried on a feud with him for eighteen months over\r\nthat sword."
                ],
                [
                  "27",
                  "0.8149557113647461",
                  "At last I got the better of him."
                ],
                [
                  "28",
                  "-0.9594742059707642",
                  "He left off clanking it."
                ],
                [
                  "29",
                  "0.6335556507110596",
                  "\nThat happened in my youth, though."
                ],
                [
                  "30",
                  "-0.9889612197875977",
                  "\n\r\nBut do you know, gentlemen, what was the chief point about my spite?"
                ],
                [
                  "31",
                  "0.9817017316818237",
                  "\nWhy, the whole point, the real sting of it lay in the fact that\r\ncontinually, even in the moment of the acutest spleen, I was inwardly\r\nconscious with shame that I was not only not a spiteful but not even an\r\nembittered man, that I was simply scaring sparrows at random and\r\namusing myself by it."
                ],
                [
                  "32",
                  "-0.9529434442520142",
                  "I might foam at the mouth, but bring me a doll to\r\nplay with, give me a cup of tea with sugar in it, and maybe I should be\r\nappeased."
                ],
                [
                  "33",
                  "-0.9945844411849976",
                  "I might even be genuinely touched, though probably I should\r\ngrind my teeth at myself afterwards and lie awake at night with shame\r\nfor months after."
                ],
                [
                  "34",
                  "0.9971592426300049",
                  "That was my way."
                ],
                [
                  "35",
                  "-0.9858279228210449",
                  "\n\r\nI was lying when I said just now that I was a spiteful official."
                ],
                [
                  "36",
                  "-0.9739561080932617",
                  "I was\r\nlying from spite."
                ],
                [
                  "37",
                  "0.9990957975387573",
                  "I was simply amusing myself with the petitioners and\r\nwith the officer, and in reality I never could become spiteful."
                ],
                [
                  "38",
                  "-0.9662494659423828",
                  "I was\r\nconscious every moment in myself of many, very many elements absolutely\r\nopposite to that."
                ],
                [
                  "39",
                  "0.9789372682571411",
                  "I felt them positively swarming in me, these opposite\r\nelements."
                ],
                [
                  "40",
                  "0.9870822429656982",
                  "I knew that they had been swarming in me all my life and\r\ncraving some outlet from me, but I would not let them, would not let\r\nthem, purposely would not let them come out."
                ],
                [
                  "41",
                  "-0.9900349378585815",
                  "They tormented me till I\r\nwas ashamed: they drove me to convulsions and—sickened me, at last, how\r\nthey sickened me! Now, are not you fancying, gentlemen, that I am\r\nexpressing remorse for something now, that I am asking your forgiveness\r\nfor something?"
                ],
                [
                  "42",
                  "0.9988702535629272",
                  "I am sure you are fancying that ..."
                ],
                [
                  "43",
                  "-0.9982651472091675",
                  "However, I assure\r\nyou I do not care if you are...."
                ],
                [
                  "44",
                  "-0.9956841468811035",
                  "\n\r\nIt was not only that I could not become spiteful, I did not know how to\r\nbecome anything; neither spiteful nor kind, neither a rascal nor an\r\nhonest man, neither a hero nor an insect."
                ],
                [
                  "45",
                  "-0.9851442575454712",
                  "Now, I am living out my life\r\nin my corner, taunting myself with the spiteful and useless consolation\r\nthat an intelligent man cannot become anything seriously, and it is\r\nonly the fool who becomes anything."
                ],
                [
                  "46",
                  "-0.9849995374679565",
                  "Yes, a man in the nineteenth\r\ncentury must and morally ought to be pre-eminently a characterless\r\ncreature; a man of character, an active man is pre-eminently a limited\r\ncreature."
                ],
                [
                  "47",
                  "0.9888768196105957",
                  "That is my conviction of forty years."
                ],
                [
                  "48",
                  "-0.9749102592468262",
                  "I am forty years old\r\nnow, and you know forty years is a whole lifetime; you know it is\r\nextreme old age."
                ],
                [
                  "49",
                  "-0.9993007183074951",
                  "To live longer than forty years is bad manners, is\r\nvulgar, immoral."
                ]
              ],
              "shape": {
                "columns": 2,
                "rows": 2384
              }
            },
            "text/html": [
              "<div>\n",
              "<style scoped>\n",
              "    .dataframe tbody tr th:only-of-type {\n",
              "        vertical-align: middle;\n",
              "    }\n",
              "\n",
              "    .dataframe tbody tr th {\n",
              "        vertical-align: top;\n",
              "    }\n",
              "\n",
              "    .dataframe thead th {\n",
              "        text-align: right;\n",
              "    }\n",
              "</style>\n",
              "<table border=\"1\" class=\"dataframe\">\n",
              "  <thead>\n",
              "    <tr style=\"text-align: right;\">\n",
              "      <th></th>\n",
              "      <th>sentiment</th>\n",
              "      <th>sentence</th>\n",
              "    </tr>\n",
              "  </thead>\n",
              "  <tbody>\n",
              "    <tr>\n",
              "      <th>0</th>\n",
              "      <td>-0.998312</td>\n",
              "      <td>\\r\\nI am a sick man....</td>\n",
              "    </tr>\n",
              "    <tr>\n",
              "      <th>1</th>\n",
              "      <td>-0.980231</td>\n",
              "      <td>I am a spiteful man.</td>\n",
              "    </tr>\n",
              "    <tr>\n",
              "      <th>2</th>\n",
              "      <td>-0.991101</td>\n",
              "      <td>I am an unattractive man.</td>\n",
              "    </tr>\n",
              "    <tr>\n",
              "      <th>3</th>\n",
              "      <td>-0.997110</td>\n",
              "      <td>I\\r\\nbelieve my liver is diseased.</td>\n",
              "    </tr>\n",
              "    <tr>\n",
              "      <th>4</th>\n",
              "      <td>-0.998645</td>\n",
              "      <td>However, I know nothing at all about my\\r\\ndis...</td>\n",
              "    </tr>\n",
              "    <tr>\n",
              "      <th>...</th>\n",
              "      <td>...</td>\n",
              "      <td>...</td>\n",
              "    </tr>\n",
              "    <tr>\n",
              "      <th>2379</th>\n",
              "      <td>0.982832</td>\n",
              "      <td>We are developing a taste for it.</td>\n",
              "    </tr>\n",
              "    <tr>\n",
              "      <th>2380</th>\n",
              "      <td>-0.832976</td>\n",
              "      <td>Soon we shall contrive to be\\r\\nborn somehow f...</td>\n",
              "    </tr>\n",
              "    <tr>\n",
              "      <th>2381</th>\n",
              "      <td>-0.994718</td>\n",
              "      <td>But enough; I don’t want to write more from\\r\\...</td>\n",
              "    </tr>\n",
              "    <tr>\n",
              "      <th>2382</th>\n",
              "      <td>-0.774726</td>\n",
              "      <td>[The notes of this paradoxalist do not end her...</td>\n",
              "    </tr>\n",
              "    <tr>\n",
              "      <th>2383</th>\n",
              "      <td>0.182009</td>\n",
              "      <td>He could not\\r\\nrefrain from going on with the...</td>\n",
              "    </tr>\n",
              "  </tbody>\n",
              "</table>\n",
              "<p>2384 rows × 2 columns</p>\n",
              "</div>"
            ],
            "text/plain": [
              "      sentiment                                           sentence\n",
              "0     -0.998312                            \\r\\nI am a sick man....\n",
              "1     -0.980231                               I am a spiteful man.\n",
              "2     -0.991101                          I am an unattractive man.\n",
              "3     -0.997110                 I\\r\\nbelieve my liver is diseased.\n",
              "4     -0.998645  However, I know nothing at all about my\\r\\ndis...\n",
              "...         ...                                                ...\n",
              "2379   0.982832                  We are developing a taste for it.\n",
              "2380  -0.832976  Soon we shall contrive to be\\r\\nborn somehow f...\n",
              "2381  -0.994718  But enough; I don’t want to write more from\\r\\...\n",
              "2382  -0.774726  [The notes of this paradoxalist do not end her...\n",
              "2383   0.182009  He could not\\r\\nrefrain from going on with the...\n",
              "\n",
              "[2384 rows x 2 columns]"
            ]
          },
          "execution_count": 36,
          "metadata": {},
          "output_type": "execute_result"
        }
      ],
      "source": [
        "# Perform sentiment analysis on the text from *Notes from the Underground*\n",
        "out = classifier(notes_from_the_underground)\n",
        "result = [get_positive_score(x) for x in out]  # Turn into -1 to 1 scale\n",
        "\n",
        "# Create a DataFrame with the results\n",
        "result_df = pd.DataFrame({\n",
        "\t'sentiment': result,\n",
        "\t'sentence': notes_from_the_underground\n",
        "})\n",
        "result_df"
      ]
    },
    {
      "cell_type": "code",
      "execution_count": 38,
      "metadata": {},
      "outputs": [
        {
          "data": {
            "image/png": "[encoded data removed]",
            "text/plain": [
              "<Figure size 1400x700 with 1 Axes>"
            ]
          },
          "metadata": {},
          "output_type": "display_data"
        }
      ],
      "source": [
        "# Compute the moving average with a window of 50 sentences\n",
        "window = 50\n",
        "mov_avg = np.convolve(scores, np.ones(window)/window, mode='valid')\n",
        "\n",
        "# Plot the results\n",
        "plt.figure(figsize=(14, 7))\n",
        "plt.plot(np.arange(window-1, window-1 + len(mov_avg)), mov_avg)\n",
        "plt.xlabel('Sentence Index')\n",
        "plt.ylabel('Sentiment (Moving Average over 50 sentences)')\n",
        "plt.title('Sentiment Development in \"Notes from the Underground\"')\n",
        "plt.grid(True)\n",
        "plt.show()"
      ]
    },
    {
      "cell_type": "markdown",
      "metadata": {},
      "source": [
        "# 3. Final thoughts"
      ]
    },
    {
      "cell_type": "markdown",
      "metadata": {},
      "source": [
        "### 3.1. Drawbacks\n"
      ]
    },
    {
      "cell_type": "markdown",
      "metadata": {},
      "source": [
        "- These methods are slightly worse than humans for msot things\n",
        "- Sometimes better"
      ]
    },
    {
      "cell_type": "markdown",
      "metadata": {},
      "source": [
        "### 3.2. Utility\n",
        "\n"
      ]
    },
    {
      "cell_type": "markdown",
      "metadata": {},
      "source": [
        "- These methods are fully replicable - no judgement calls are hiddden\n",
        "- They are vastly faster and cheaper than research assistants"
      ]
    },
    {
      "cell_type": "markdown",
      "metadata": {},
      "source": [
        "### 3.3. Two ways this could go\n"
      ]
    },
    {
      "cell_type": "markdown",
      "metadata": {},
      "source": [
        "- We care less about quality\n",
        "- We care more about quality"
      ]
    },
    {
      "cell_type": "markdown",
      "metadata": {},
      "source": [
        "### 3.4. More examples\n"
      ]
    },
    {
      "cell_type": "markdown",
      "metadata": {},
      "source": [
        "- [From last years summer school](https://raw.githack.com/sdu-econhist/hedg-summer-school-ai/refs/heads/main/slides_cv_version.slides.html#/6)"
      ]
    }
  ],
  "metadata": {
    "colab": {
      "provenance": []
    },
    "kernelspec": {
      "display_name": "cvs",
      "language": "python",
      "name": "python3"
    },
    "language_info": {
      "codemirror_mode": {
        "name": "ipython",
        "version": 3
      },
      "file_extension": ".py",
      "mimetype": "text/x-python",
      "name": "python",
      "nbconvert_exporter": "python",
      "pygments_lexer": "ipython3",
      "version": "3.13.3"
    }
  },
  "nbformat": 4,
  "nbformat_minor": 0
}
